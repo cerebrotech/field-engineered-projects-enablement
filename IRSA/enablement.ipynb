{
 "cells": [
  {
   "cell_type": "markdown",
   "id": "ebb6af9d-afb5-4595-9ad4-a7a2c1ca1e18",
   "metadata": {},
   "source": [
    "## Prerequisite\n",
    "Install boto3 library. You will need it to test IRSA. Some of the assumptions made in this enablement scenario-\n",
    "\n",
    "1. EKS Account Id - `946429944765` Prod-Field deployment is in this AWS Account\n",
    "2. AWS Assets Account Id - `524112250363` This is the account where your corporate assets like S3 buckets containing your corporate data are placed. \n",
    "   It would be ideal if you have some access to this account. But we can still run through most of this tutorial without it.\n",
    "3. The OIDC Provider Attached to your EKS cluster is ` oidc.eks.us-west-2.amazonaws.com/id/6377798F9D92DFC7C9C3873B8DA27C68`\n",
    "   If the prod-field deployments EKS cluster changes, so will this provider. And the IRSA service will need to be reinstalled.\n",
    "\n",
    "\n",
    "This project is based on the IRSA enablement [repository](https://github.com/cerebrotech/field-engineered-projects-enablement/tree/main/IRSA)\n",
    "\n",
    "https://github.com/cerebrotech/field-engineered-projects-enablement/tree/main/IRSA"
   ]
  },
  {
   "cell_type": "markdown",
   "id": "e4a0f208-d459-405f-815c-d49609b41d00",
   "metadata": {},
   "source": [
    "### Verify the services are running\n"
   ]
  },
  {
   "cell_type": "code",
   "execution_count": null,
   "id": "7fe6dfce-aa34-4a77-98db-2e17fd62fd91",
   "metadata": {},
   "outputs": [],
   "source": [
    "#First let us verify that the IRSA backend service is running\n",
    "!curl http://irsa-svc.domino-field/healthz"
   ]
  },
  {
   "cell_type": "code",
   "execution_count": null,
   "id": "51f763ee-405e-4163-91ba-9f34eedafcea",
   "metadata": {},
   "outputs": [],
   "source": [
    "!curl http://localhost:6003/healthz"
   ]
  },
  {
   "cell_type": "markdown",
   "id": "84d7afbd-7118-40d3-acd4-56221ab76a40",
   "metadata": {},
   "source": [
    "## Web Identity Token\n",
    "A Web Identity Token is how your workspace authenticates to AWS IAM. It is injected into your workspace via a `domsed` mutation.\n",
    "\n",
    "```yaml\n",
    "  - name: aws-user-token\n",
    "    projected:\n",
    "      defaultMode: 422\n",
    "      sources:\n",
    "      - serviceAccountToken:\n",
    "          path: token\n",
    "          expirationSeconds: 86400\n",
    "          audience: sts.amazonaws.com\n",
    "```\n",
    "\n",
    "Note that this token expires every 24 hours. We can and should make this shorter in a production deploymen. K8s rotates\n",
    "this token 5 mins prior to expiry. If this token is compromised the attacker can use it to assume roles in the AWS\n",
    "account using just an `.aws/config` file which matches the one in the workspace from which this token was stolen.\n",
    "\n",
    "The mutation also injects to AWS specific environment variables\n",
    "1. AWS_WEB_IDENTITY_TOKEN_FILE\n",
    "2. AWS_CONFIG_FILE"
   ]
  },
  {
   "cell_type": "code",
   "execution_count": null,
   "id": "e1ff5843-5547-4366-8783-992798e4ebb6",
   "metadata": {},
   "outputs": [],
   "source": [
    "!cat $AWS_WEB_IDENTITY_TOKEN_FILE"
   ]
  },
  {
   "cell_type": "markdown",
   "id": "86742249-a572-4f7a-a6d9-8b5dee00a851",
   "metadata": {},
   "source": [
    "Now go to www.jwt.io and paste the above token. Note the `iss`. This is the token that boto3 api uses to implicitly authenticate with IAM. This occurs implicitly when the `AWS_WEB_IDENTITY_TOKEN_FILE` environment variable set.\n",
    "\n",
    "Note the `iss`. This is the token that boto3 api uses to implicitly authenticate with IAM. This occurs implicitly when the `AWS_WEB_IDENTITY_TOKEN_FILE` environment variable set.\n",
    "\n",
    "Note the `sub` is `system:serviceaccount:domino-compute:run-$DOMINO_RUN_ID` (your workspace service account is same as your run-id)\n",
    "[Ex. `system:serviceaccount:domino-compute:run-646d27b817c28b5ea4b5b0c1`] \n",
    "\n",
    "`system:serviceaccount:domino-compute:run-646d27b817c28b5ea4b5b0c1` (your workspace service account) . This will be important later.\n"
   ]
  },
  {
   "cell_type": "markdown",
   "id": "d2400bc1-76f3-4109-87c5-0189d7b9770a",
   "metadata": {},
   "source": [
    "```\n",
    "{\n",
    "  \"aud\": [\n",
    "    \"sts.amazonaws.com\"\n",
    "  ],\n",
    "  \"exp\": 1685030736,\n",
    "  \"iat\": 1684944336,\n",
    "  \"iss\": \"https://oidc.eks.us-west-2.amazonaws.com/id/6377798F9D92DFC7C9C3873B8DA27C68\",\n",
    "  \"kubernetes.io\": {\n",
    "    \"namespace\": \"domino-compute\",\n",
    "    \"pod\": {\n",
    "      \"name\": \"run-646d27b817c28b5ea4b5b0c1-fxc2q\",\n",
    "      \"uid\": \"63e373b0-4d62-4860-a329-baec1afcd3f8\"\n",
    "    },\n",
    "    \"serviceaccount\": {\n",
    "      \"name\": \"run-646d27b817c28b5ea4b5b0c1\",\n",
    "      \"uid\": \"ed97cfcf-58c6-4c1e-8929-71ff9bc335aa\"\n",
    "    }\n",
    "  },\n",
    "  \"nbf\": 1684944336,\n",
    "  \"sub\": \"system:serviceaccount:domino-compute:run-646d27b817c28b5ea4b5b0c1\"\n",
    "}\n",
    "```"
   ]
  },
  {
   "cell_type": "markdown",
   "id": "4fb94a00-3b97-4a0a-9160-8c1d941a3ec5",
   "metadata": {},
   "source": [
    "### AWS Config File\n",
    "\n",
    "The `boto3` library looks for the config file in the following location `$AWS_CONFIG_FILE` which in your workspace\n",
    "is set to `/var/run/.aws/config`"
   ]
  },
  {
   "cell_type": "code",
   "execution_count": null,
   "id": "fb3528ff-0546-4089-9b73-4938dcd6f65a",
   "metadata": {},
   "outputs": [],
   "source": [
    "!cat $AWS_CONFIG_FILE"
   ]
  },
  {
   "cell_type": "markdown",
   "id": "d560bb77-54e8-4a5f-8955-a43f5707dbe6",
   "metadata": {},
   "source": [
    "This is file is created by the side-car container during startup. You can always refresh it using the command \n",
    "```shell\n",
    "curl http://localhost:6003/refresh\n",
    "```\n",
    "\n",
    "\n",
    "For each profile in the asset account there is a corresponding role in the eks account\n",
    "\n",
    "| AWS Profile (Asset Account)     | SRC AWS Profile (EKS Account) |\n",
    "| ----------- | ----------- |\n",
    "| `acme-list-bucket-role`      | `src_acme-list-bucket-role`       |\n",
    "| `acme-read-bucket-role`  | `src_acme-read-bucket-role`       |\n",
    "| `acme-update-bucket-role`   | `src_acme-read-bucket-role`       |\n",
    "\n",
    "An example `src` profile looks like this:\n",
    "\n",
    "```shell\n",
    "[profile src_acme-list-bucket-role]\n",
    "web_identity_token_file = /var/run/secrets/eks.amazonaws.com/serviceaccount/token\n",
    "role_arn=arn:aws:iam::946429944765:role/acme-list-bucket-role\n",
    "```\n",
    "The corresponding asset profile looks like this:\n",
    "\n",
    "```shell\n",
    "[profile acme-list-bucket-role]\n",
    "source_profile = src_acme-list-bucket-role\n",
    "role_arn=arn:aws:iam::524112250363:role/acme-list-bucket-role\n",
    "```\n",
    "\n",
    "When the user assumes the asset profile `acme-list-bucket-role` it knows its `source_profile` is `src_acme-list-bucket-role`\n",
    "\n",
    "The `src_acme-list-bucket-role` uses the `web_identity_token_file` to authenticate with AWS IAM which already has \n",
    "a trust relationship established with the OIDC provider who issues the web identity token. It uses this to assume the role\n",
    "`role_arn` in the source profile `aws:iam::946429944765:role/acme-list-bucket-role`\n",
    "\n",
    "The `aws:iam::946429944765:role/acme-list-bucket-role` in turn tries to assume the role `arn:aws:iam::524112250363:role/acme-list-bucket-role`\n",
    "which is listed as the `role_arn` in the `[profile acme-list-bucket-role]`"
   ]
  },
  {
   "cell_type": "markdown",
   "id": "84c9ec95-a33f-403e-8f6a-5fb7c664c577",
   "metadata": {},
   "source": [
    "### Bringing it all together\n",
    "\n",
    "When the workspace starts up, the side-car invokes the backend IRSA service using the following code-snippet"
   ]
  },
  {
   "cell_type": "code",
   "execution_count": null,
   "id": "3916c817-8b4f-4f6e-8072-b3a2da70b903",
   "metadata": {},
   "outputs": [],
   "source": [
    "#Emulate Side-Car\n",
    "import requests\n",
    "import os\n",
    "access_token_endpoint='http://localhost:8899/access-token'\n",
    "resp = requests.get(access_token_endpoint)\n",
    "\n",
    "\n",
    "token = resp.text\n",
    "headers = {\n",
    "             \"Content-Type\": \"application/json\",\n",
    "             \"Authorization\": \"Bearer \" + token,\n",
    "        }\n",
    "endpoint='http://irsa-svc.domino-field/map_iam_roles_to_pod_sa'\n",
    "data = {\"run_id\": os.environ['DOMINO_RUN_ID']} ## It fetches this fom the downward api\n",
    "resp = requests.post(endpoint,headers=headers,json=data)\n",
    "resp.text"
   ]
  },
  {
   "cell_type": "markdown",
   "id": "fbdfd5e5-b143-433b-9d04-59aefd1347ed",
   "metadata": {},
   "source": [
    "The backend IRSA service updates the trust policy file attached to each of the source roles being added to the config file.\n",
    "The trust policy will look like this:\n",
    "```json\n",
    "{\n",
    "    \"Version\": \"2012-10-17\",\n",
    "    \"Statement\": [\n",
    "        {\n",
    "            \"Effect\": \"Allow\",\n",
    "            \"Principal\": {\n",
    "                \"Federated\": \"arn:aws:iam::946429944765:oidc-provider/oidc.eks.us-west-2.amazonaws.com/id/6377798F9D92DFC7C9C3873B8DA27C68\"\n",
    "            },\n",
    "            \"Action\": \"sts:AssumeRoleWithWebIdentity\",\n",
    "            \"Condition\": {\n",
    "                \"StringLike\": {\n",
    "                    \"oidc.eks.us-west-2.amazonaws.com/id/6377798F9D92DFC7C9C3873B8DA27C68:aud\": \"sts.amazonaws.com\",\n",
    "                    \"oidc.eks.us-west-2.amazonaws.com/id/6377798F9D92DFC7C9C3873B8DA27C68:sub\": [\n",
    "                        \"*:domino-compute:run-646d27b817c28b5ea4b5b0c1\",\n",
    "                        \"*:domino-compute:run-646f604955daf764547c5b77\"\n",
    "                    ]\n",
    "                }\n",
    "            }\n",
    "        }\n",
    "    ]\n",
    "}\n",
    "```\n",
    "\n",
    "Note the `aud` and `sub` fields. This is the reason why the `src_acme-list-bucket-role` profile can assume the role\n",
    "`arn:aws:iam::946429944765:role/acme-list-bucket-role`. If you remove the entries for your workspace from the trust policy,\n",
    "the web identity token can authenticate with the AWS IAM but IAM will not allow it to assume the role.\n",
    "\n",
    "Last each of the roles in the EKS Account have the following policies attached to them:\n",
    "\n",
    "| Role    | Policies  |\n",
    "| ----------- | ----------- |\n",
    "| `acme-list-bucket-role`      | `acme-list-bucket-policy`       |\n",
    "| `acme-read-bucket-role`  | `acme-read-bucket-policy`       |\n",
    "| `acme-update-bucket-role`   | `acme-read-bucket-policy`       |\n",
    "\n",
    "`acme-list-bucket-policy` looks like this:\n",
    "```json\n",
    "{\n",
    "    \"Version\": \"2012-10-17\",\n",
    "    \"Statement\": [\n",
    "        {\n",
    "            \"Effect\": \"Allow\",\n",
    "            \"Action\": \"sts:AssumeRole\",\n",
    "            \"Resource\": \"arn:aws:iam::524112250363:role/acme-list-bucket-role\"\n",
    "        }\n",
    "    ]\n",
    "}\n",
    "```\n",
    "The other two policies are similar\n",
    "\n",
    "\n",
    "To summarize two things make it possible for the workspace to assume the role `arn:aws:iam::946429944765:role/acme-list-bucket-role`\n",
    "(and the other two roles):\n",
    "\n",
    "1. The web identity token which was issued by the oidc provider (`sub` provides the identity)\n",
    "2. The `Condition` section of the trust policy attached to the roles which explictly declares which `sub` are allowed to \n",
    "assume the role.\n",
    "3. The permission policies attached to the roles in the EKS account will be allowed to assume roles in the Assets account.\n",
    "\n",
    "One last thing, the corresponding roles in the Assets Account ex. `arn:aws:iam::524112250363:role/acme-list-bucket-role`\n",
    "need to have their trust policy to allow principals in the EKS account to assume it. This is the trust policy attached to\n",
    "each of the roles `acme-list-bucket-role` , `acme-read-bucket-role` and `acme-update-bucket-role` \n",
    "\n",
    "```\n",
    "{\n",
    "    \"Version\": \"2012-10-17\",\n",
    "    \"Statement\": [\n",
    "        {\n",
    "            \"Effect\": \"Allow\",\n",
    "            \"Principal\": {\n",
    "                \"AWS\": \"arn:aws:iam::946429944765:root\"\n",
    "            },\n",
    "            \"Action\": \"sts:AssumeRole\"\n",
    "        }\n",
    "    ]\n",
    "}\n",
    "```"
   ]
  },
  {
   "cell_type": "markdown",
   "id": "14904e25-9583-4d0c-9550-f5128f694a64",
   "metadata": {},
   "source": [
    "#### Install boto3 library\n"
   ]
  },
  {
   "cell_type": "code",
   "execution_count": null,
   "id": "3d1c5ad5-b899-45b7-8eaa-ad2246b795c8",
   "metadata": {},
   "outputs": [],
   "source": [
    "! pip install boto3"
   ]
  },
  {
   "cell_type": "markdown",
   "id": "c3a2614a-9153-46ce-924b-8c3c136bae04",
   "metadata": {},
   "source": [
    "### Now lets get some action\n",
    "\n",
    "Let us actual make calls using the `boto3` api now :\n",
    "\n",
    "\n",
    "### Listing Profiles\n",
    "\n",
    "Let us use the boto3 library to fetch all the profiles available. This is similar to `cat $AWS_CONFIG_FILE`"
   ]
  },
  {
   "cell_type": "code",
   "execution_count": null,
   "id": "c9da2af2-ee09-4de4-a300-d9f7132ca0f6",
   "metadata": {},
   "outputs": [],
   "source": [
    "import boto3.session\n",
    "for profile in boto3.session.Session().available_profiles:\n",
    "    print(profile)"
   ]
  },
  {
   "cell_type": "markdown",
   "id": "baea9673-2512-44e0-9a6a-b6c14a1c19ea",
   "metadata": {},
   "source": [
    "### Listing the bucket\n",
    "\n",
    "First lets verify what the identity of the profile is. This is determines by a combination of the web identity token\n",
    "and the underlying assumed role in the Assests Account via the role in the EKS Account"
   ]
  },
  {
   "cell_type": "code",
   "execution_count": null,
   "id": "abfae9b7-5e0e-4430-9d84-7e13a0e71d1e",
   "metadata": {},
   "outputs": [],
   "source": [
    "import boto3.session\n",
    "list_bucket_profile_name='acme-list-bucket-role'\n",
    "session = boto3.session.Session(profile_name=list_bucket_profile_name)\n",
    "sts_client = session.client('sts')\n",
    "sts_client.get_caller_identity()"
   ]
  },
  {
   "cell_type": "markdown",
   "id": "3c90b469-4838-4053-8693-5d635e33998f",
   "metadata": {},
   "source": [
    "The following permission policy is attached to the role is `acme-list-bucket-policy` (only relevant snippet)\n",
    "\n",
    "```json\n",
    "        {\n",
    "            \"Effect\": \"Allow\",\n",
    "            \"Action\": [\"s3:ListBucket\"],\n",
    "            \"Resource\": [\"arn:aws:s3:::domino-acme-test-bucket\"]\n",
    "        }\n",
    "```"
   ]
  },
  {
   "cell_type": "code",
   "execution_count": null,
   "id": "fc2ae541-724e-4cca-a397-1bbd52172dde",
   "metadata": {},
   "outputs": [],
   "source": [
    "#Now list the bucket\n",
    "import boto3\n",
    "test_bucket='domino-acme-test-bucket'\n",
    "list_bucket_profile_name='acme-list-bucket-role'\n",
    "session = boto3.session.Session(profile_name=list_bucket_profile_name)\n",
    "s3_client = session.client('s3')\n",
    "for key in s3_client.list_objects(Bucket=test_bucket)['Contents']:\n",
    "    print(key)"
   ]
  },
  {
   "cell_type": "markdown",
   "id": "f6a63c5d-52ce-4043-aef5-ea1ce94c9151",
   "metadata": {},
   "source": [
    "### Writing to the bucket\n",
    "\n",
    "Now we write to the bucket. For that we need to use the profile 'acme-update-bucket-role'. This role in the assets\n",
    "account will have the following policies attached to it (List, Read, Update permission)\n",
    "\n",
    "1. `acme-list-bucket-policy` [Only the relevant snipper below]\n",
    "\n",
    "\n",
    "2. `acme-read-bucket-policy` \n",
    "\n",
    "```json\n",
    "        {\n",
    "            \"Effect\": \"Allow\",\n",
    "            \"Action\": [\"s3:Get*\"],\n",
    "            \"Resource\": [\"arn:aws:s3:::domino-acme-test-bucket/*\"]\n",
    "        }\n",
    "```\n",
    "\n",
    "2. `acme-update-bucket-policy` \n",
    "\n",
    "```json\n",
    "     [\n",
    "        {\n",
    "            \"Sid\": \"WriteObjectsInBucket\",\n",
    "            \"Effect\": \"Allow\",\n",
    "            \"Action\": \"s3:PutObject\",\n",
    "            \"Resource\": [\"arn:aws:s3:::domino-acme-test-bucket/*\"]\n",
    "        },\n",
    "        {\n",
    "            \"Sid\": \"DeleteObjectsInBucket\",\n",
    "            \"Effect\": \"Allow\",\n",
    "            \"Action\": \"s3:DeleteObject\",\n",
    "            \"Resource\": [\"arn:aws:s3:::domino-acme-test-bucket/*\"]\n",
    "        }\n",
    "    ]\n",
    "```\n",
    "\n",
    "Now let us create a object with key `$DOMINO_STARTING_USERNAME.txt`"
   ]
  },
  {
   "cell_type": "code",
   "execution_count": null,
   "id": "6c411f65-5f91-4022-8d92-debdf529ba80",
   "metadata": {},
   "outputs": [],
   "source": [
    "import boto3\n",
    "import os\n",
    "test_bucket='domino-acme-test-bucket'\n",
    "starting_user = os.environ['DOMINO_STARTING_USERNAME']\n",
    "update_bucket_profile_name='acme-update-bucket-role'\n",
    "session = boto3.session.Session(profile_name=update_bucket_profile_name)\n",
    "s3_client = session.client('s3')\n",
    "object_data = \"This is a random string.\"\n",
    "object_key = f'{starting_user}.txt'\n",
    "s3_client.put_object(Body=object_data, Bucket=test_bucket, Key=object_key)"
   ]
  },
  {
   "cell_type": "markdown",
   "id": "4f0db416-63b4-4977-b0bd-58c6eb2b6cbc",
   "metadata": {},
   "source": [
    "If you try to read the key using this role using the code below you will see an error indicating that the role does not have `GetObject` operation allowed for it.\n",
    "```shell\n",
    "ClientError: An error occurred (AccessDenied) when calling the GetObject operation: Access Denied\n",
    "```"
   ]
  },
  {
   "cell_type": "markdown",
   "id": "1b1d6149-52b0-4719-827c-257ad930a512",
   "metadata": {},
   "source": [
    "\n",
    "### Reading a key from the bucket\n",
    "\n",
    "Let us now read the newly added object from the bucket. This is provided by the role `acme-read-bucket-role`. This role\n",
    "has the  policies `acme-read-bucket-policy` attached to it:\n",
    "\n",
    "1. `acme-list-bucket-policy`\n",
    "2. `acme-read-bucket-policy`\n",
    "```json\n",
    "         {\n",
    "            \"Sid\": \"WriteObjectsInBucket\",\n",
    "            \"Effect\": \"Allow\",\n",
    "            \"Action\": \"\"s3:Get*\"\",\n",
    "            \"Resource\": [\"arn:aws:s3:::domino-acme-test-bucket/*\"]\n",
    "        }\n",
    "```\n",
    "\n",
    "Run the following code snippet:"
   ]
  },
  {
   "cell_type": "code",
   "execution_count": 31,
   "id": "30a9607d-d431-4bf0-bc1a-82814910da68",
   "metadata": {},
   "outputs": [
    {
     "name": "stdout",
     "output_type": "stream",
     "text": [
      "\n",
      "---Contents of the key sameer_wadkar.txt----\n",
      "\n",
      "This is a random string.\n"
     ]
    }
   ],
   "source": [
    "import boto3\n",
    "import os\n",
    "test_bucket='domino-acme-test-bucket'\n",
    "starting_user = os.environ['DOMINO_STARTING_USERNAME']\n",
    "read_bucket_profile_name='acme-read-bucket-role'\n",
    "object_key = f'{starting_user}.txt'\n",
    "session = boto3.session.Session(profile_name=read_bucket_profile_name)\n",
    "s3_client = session.client('s3')\n",
    "data = s3_client.get_object(Bucket=test_bucket, Key=object_key)\n",
    "contents = data['Body'].read()\n",
    "print(f'\\n---Contents of the key {object_key}----\\n')\n",
    "print(contents.decode(\"utf-8\"))"
   ]
  },
  {
   "cell_type": "markdown",
   "id": "24293fe8-276f-4b85-b9bd-645ba0752249",
   "metadata": {},
   "source": [
    "### Deleting a key from the bucket\n",
    "\n",
    "Finally let us delete the newly created object"
   ]
  },
  {
   "cell_type": "code",
   "execution_count": 32,
   "id": "c7c6f06a-fdcf-402c-b25c-3ea620e38669",
   "metadata": {},
   "outputs": [
    {
     "name": "stdout",
     "output_type": "stream",
     "text": [
      "Deleting Key sameer_wadkar.txt from bucket domino-acme-test-bucket\n",
      "\n",
      "Now listing bucket:\n",
      "\n",
      "{'Key': 'a.txt', 'LastModified': datetime.datetime(2023, 5, 23, 21, 8, 28, tzinfo=tzlocal()), 'ETag': '\"d41d8cd98f00b204e9800998ecf8427e\"', 'Size': 0, 'StorageClass': 'STANDARD', 'Owner': {'DisplayName': 'ops+aws-domino-cs-eval', 'ID': 'c745a304f2b9d04fceed84743d0486eda1ca6aaef0a5a7b560ffbd66a16d8441'}}\n",
      "{'Key': 'b.txt', 'LastModified': datetime.datetime(2023, 5, 23, 21, 8, 28, tzinfo=tzlocal()), 'ETag': '\"d41d8cd98f00b204e9800998ecf8427e\"', 'Size': 0, 'StorageClass': 'STANDARD', 'Owner': {'DisplayName': 'ops+aws-domino-cs-eval', 'ID': 'c745a304f2b9d04fceed84743d0486eda1ca6aaef0a5a7b560ffbd66a16d8441'}}\n",
      "{'Key': 'c.txt', 'LastModified': datetime.datetime(2023, 5, 23, 21, 8, 27, tzinfo=tzlocal()), 'ETag': '\"d41d8cd98f00b204e9800998ecf8427e\"', 'Size': 0, 'StorageClass': 'STANDARD', 'Owner': {'DisplayName': 'ops+aws-domino-cs-eval', 'ID': 'c745a304f2b9d04fceed84743d0486eda1ca6aaef0a5a7b560ffbd66a16d8441'}}\n"
     ]
    }
   ],
   "source": [
    "import boto3\n",
    "import os\n",
    "test_bucket='domino-acme-test-bucket'\n",
    "update_bucket_profile_name='acme-update-bucket-role'\n",
    "starting_user = os.environ['DOMINO_STARTING_USERNAME']\n",
    "object_key = f'{starting_user}.txt'\n",
    "print(f'Deleting Key {object_key} from bucket {test_bucket}')\n",
    "\n",
    "session = boto3.session.Session(profile_name=update_bucket_profile_name)\n",
    "s3_client = session.client('s3')\n",
    "s3_client.delete_object(Bucket=test_bucket, Key=object_key)\n",
    "print('\\nNow listing bucket:\\n')\n",
    "for key in s3_client.list_objects(Bucket=test_bucket)['Contents']:\n",
    "    print(key)\n"
   ]
  }
 ],
 "metadata": {
  "dca-init": "true",
  "kernelspec": {
   "display_name": "Python 3",
   "language": "python",
   "name": "python3"
  },
  "language_info": {
   "codemirror_mode": {
    "name": "ipython",
    "version": 3
   },
   "file_extension": ".py",
   "mimetype": "text/x-python",
   "name": "python",
   "nbconvert_exporter": "python",
   "pygments_lexer": "ipython3",
   "version": "3.9.15"
  }
 },
 "nbformat": 4,
 "nbformat_minor": 5
}
